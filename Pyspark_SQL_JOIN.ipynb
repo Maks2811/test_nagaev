{
  "nbformat": 4,
  "nbformat_minor": 0,
  "metadata": {
    "colab": {
      "provenance": [],
      "authorship_tag": "ABX9TyOk/PLmCDE88D1lCS44NG2p",
      "include_colab_link": true
    },
    "kernelspec": {
      "name": "python3",
      "display_name": "Python 3"
    },
    "language_info": {
      "name": "python"
    }
  },
  "cells": [
    {
      "cell_type": "markdown",
      "metadata": {
        "id": "view-in-github",
        "colab_type": "text"
      },
      "source": [
        "<a href=\"https://colab.research.google.com/github/Maks2811/test_nagaev/blob/main/Pyspark_SQL_JOIN.ipynb\" target=\"_parent\"><img src=\"https://colab.research.google.com/assets/colab-badge.svg\" alt=\"Open In Colab\"/></a>"
      ]
    },
    {
      "cell_type": "code",
      "execution_count": 1,
      "metadata": {
        "colab": {
          "base_uri": "https://localhost:8080/"
        },
        "id": "awCTSYls8INY",
        "outputId": "4c337bf6-7f6e-4965-f488-0baf8911c15b"
      },
      "outputs": [
        {
          "output_type": "stream",
          "name": "stdout",
          "text": [
            "Collecting pyspark\n",
            "  Downloading pyspark-3.5.1.tar.gz (317.0 MB)\n",
            "\u001b[2K     \u001b[90m━━━━━━━━━━━━━━━━━━━━━━━━━━━━━━━━━━━━━━━━\u001b[0m \u001b[32m317.0/317.0 MB\u001b[0m \u001b[31m3.2 MB/s\u001b[0m eta \u001b[36m0:00:00\u001b[0m\n",
            "\u001b[?25h  Preparing metadata (setup.py) ... \u001b[?25l\u001b[?25hdone\n",
            "Requirement already satisfied: py4j==0.10.9.7 in /usr/local/lib/python3.10/dist-packages (from pyspark) (0.10.9.7)\n",
            "Building wheels for collected packages: pyspark\n",
            "  Building wheel for pyspark (setup.py) ... \u001b[?25l\u001b[?25hdone\n",
            "  Created wheel for pyspark: filename=pyspark-3.5.1-py2.py3-none-any.whl size=317488490 sha256=44065efa04923ef36f1e7a7c7b5b3c6f1d8325fd3e7ffadc63a8f19c91c67b25\n",
            "  Stored in directory: /root/.cache/pip/wheels/80/1d/60/2c256ed38dddce2fdd93be545214a63e02fbd8d74fb0b7f3a6\n",
            "Successfully built pyspark\n",
            "Installing collected packages: pyspark\n",
            "Successfully installed pyspark-3.5.1\n"
          ]
        }
      ],
      "source": [
        "!pip install pyspark"
      ]
    },
    {
      "cell_type": "code",
      "source": [
        "from pyspark.sql import SparkSession\n",
        "\n",
        "# Создание SparkSession\n",
        "spark = SparkSession.builder.appName(\"JoinExamples\").getOrCreate()\n",
        "\n",
        "# Пример данных для DataFrame people\n",
        "people_data = [\n",
        "    (\"John\", 30, 1),\n",
        "    (\"Doe\", 25, 2),\n",
        "    (\"Jane\", 35, 1),\n",
        "    (\"Mark\", 40, 2),\n",
        "    (\"Smith\", 23, 3)\n",
        "]\n",
        "people_columns = [\"name\", \"age\", \"department_id\"]\n",
        "people_df = spark.createDataFrame(data=people_data, schema=people_columns)\n",
        "\n",
        "# Пример данных для DataFrame departments\n",
        "departments_data = [\n",
        "    (1, \"HR\"),\n",
        "    (2, \"Finance\"),\n",
        "    (3, \"Engineering\"),\n",
        "    (4, \"Marketing\")\n",
        "]\n",
        "departments_columns = [\"id\", \"department_name\"]\n",
        "departments_df = spark.createDataFrame(data=departments_data, schema=departments_columns)\n",
        "\n",
        "# Показ данных\n",
        "people_df.show()\n",
        "departments_df.show()"
      ],
      "metadata": {
        "colab": {
          "base_uri": "https://localhost:8080/"
        },
        "id": "GUrEXkj98Kj1",
        "outputId": "be1412e2-a15a-4b84-8014-2a8975814ebc"
      },
      "execution_count": 2,
      "outputs": [
        {
          "output_type": "stream",
          "name": "stdout",
          "text": [
            "+-----+---+-------------+\n",
            "| name|age|department_id|\n",
            "+-----+---+-------------+\n",
            "| John| 30|            1|\n",
            "|  Doe| 25|            2|\n",
            "| Jane| 35|            1|\n",
            "| Mark| 40|            2|\n",
            "|Smith| 23|            3|\n",
            "+-----+---+-------------+\n",
            "\n",
            "+---+---------------+\n",
            "| id|department_name|\n",
            "+---+---------------+\n",
            "|  1|             HR|\n",
            "|  2|        Finance|\n",
            "|  3|    Engineering|\n",
            "|  4|      Marketing|\n",
            "+---+---------------+\n",
            "\n"
          ]
        }
      ]
    },
    {
      "cell_type": "code",
      "source": [
        "# Внутреннее соединение\n",
        "inner_join_df = people_df.join(departments_df, people_df.department_id == departments_df.id, \"inner\")\n",
        "inner_join_df.show()"
      ],
      "metadata": {
        "colab": {
          "base_uri": "https://localhost:8080/"
        },
        "id": "n5R2w4B18pg3",
        "outputId": "50f4d82f-e78c-4a04-ca3e-fd13fd3d3b58"
      },
      "execution_count": 4,
      "outputs": [
        {
          "output_type": "stream",
          "name": "stdout",
          "text": [
            "+-----+---+-------------+---+---------------+\n",
            "| name|age|department_id| id|department_name|\n",
            "+-----+---+-------------+---+---------------+\n",
            "| John| 30|            1|  1|             HR|\n",
            "| Jane| 35|            1|  1|             HR|\n",
            "|  Doe| 25|            2|  2|        Finance|\n",
            "| Mark| 40|            2|  2|        Finance|\n",
            "|Smith| 23|            3|  3|    Engineering|\n",
            "+-----+---+-------------+---+---------------+\n",
            "\n"
          ]
        }
      ]
    },
    {
      "cell_type": "code",
      "source": [
        "# Левое внешнее соединение\n",
        "left_outer_join_df = people_df.join(departments_df, people_df.department_id == departments_df.id, \"left_outer\")\n",
        "left_outer_join_df.show()"
      ],
      "metadata": {
        "colab": {
          "base_uri": "https://localhost:8080/"
        },
        "id": "9JWlRb0q8qBg",
        "outputId": "fe8544ab-81ad-4b21-85ba-1ff224ebc82d"
      },
      "execution_count": 5,
      "outputs": [
        {
          "output_type": "stream",
          "name": "stdout",
          "text": [
            "+-----+---+-------------+---+---------------+\n",
            "| name|age|department_id| id|department_name|\n",
            "+-----+---+-------------+---+---------------+\n",
            "| John| 30|            1|  1|             HR|\n",
            "|  Doe| 25|            2|  2|        Finance|\n",
            "| Jane| 35|            1|  1|             HR|\n",
            "|Smith| 23|            3|  3|    Engineering|\n",
            "| Mark| 40|            2|  2|        Finance|\n",
            "+-----+---+-------------+---+---------------+\n",
            "\n"
          ]
        }
      ]
    },
    {
      "cell_type": "code",
      "source": [
        "# Полное внешнее соединение (Full Outer Join)\n",
        "full_outer_join_df = people_df.join(departments_df, people_df.department_id == departments_df.id, \"full_outer\")\n",
        "full_outer_join_df.show()"
      ],
      "metadata": {
        "colab": {
          "base_uri": "https://localhost:8080/"
        },
        "id": "K1c-smPC85iL",
        "outputId": "f5dfaa6a-5419-40ca-aa8f-2bb88c766212"
      },
      "execution_count": 6,
      "outputs": [
        {
          "output_type": "stream",
          "name": "stdout",
          "text": [
            "+-----+----+-------------+---+---------------+\n",
            "| name| age|department_id| id|department_name|\n",
            "+-----+----+-------------+---+---------------+\n",
            "| John|  30|            1|  1|             HR|\n",
            "| Jane|  35|            1|  1|             HR|\n",
            "|  Doe|  25|            2|  2|        Finance|\n",
            "| Mark|  40|            2|  2|        Finance|\n",
            "|Smith|  23|            3|  3|    Engineering|\n",
            "| NULL|NULL|         NULL|  4|      Marketing|\n",
            "+-----+----+-------------+---+---------------+\n",
            "\n"
          ]
        }
      ]
    },
    {
      "cell_type": "code",
      "source": [
        "# Полное перекрестное соединение (Cross Join)\n",
        "cross_join_df = people_df.crossJoin(departments_df)\n",
        "cross_join_df.show()"
      ],
      "metadata": {
        "colab": {
          "base_uri": "https://localhost:8080/"
        },
        "id": "TtY16O-l9CEI",
        "outputId": "0e80de1e-fc7f-47ac-d632-ad651f5cc8d7"
      },
      "execution_count": 12,
      "outputs": [
        {
          "output_type": "stream",
          "name": "stdout",
          "text": [
            "+-----+---+-------------+---+---------------+\n",
            "| name|age|department_id| id|department_name|\n",
            "+-----+---+-------------+---+---------------+\n",
            "| John| 30|            1|  1|             HR|\n",
            "| John| 30|            1|  2|        Finance|\n",
            "|  Doe| 25|            2|  1|             HR|\n",
            "|  Doe| 25|            2|  2|        Finance|\n",
            "| John| 30|            1|  3|    Engineering|\n",
            "| John| 30|            1|  4|      Marketing|\n",
            "|  Doe| 25|            2|  3|    Engineering|\n",
            "|  Doe| 25|            2|  4|      Marketing|\n",
            "| Jane| 35|            1|  1|             HR|\n",
            "| Jane| 35|            1|  2|        Finance|\n",
            "| Mark| 40|            2|  1|             HR|\n",
            "| Mark| 40|            2|  2|        Finance|\n",
            "|Smith| 23|            3|  1|             HR|\n",
            "|Smith| 23|            3|  2|        Finance|\n",
            "| Jane| 35|            1|  3|    Engineering|\n",
            "| Jane| 35|            1|  4|      Marketing|\n",
            "| Mark| 40|            2|  3|    Engineering|\n",
            "| Mark| 40|            2|  4|      Marketing|\n",
            "|Smith| 23|            3|  3|    Engineering|\n",
            "|Smith| 23|            3|  4|      Marketing|\n",
            "+-----+---+-------------+---+---------------+\n",
            "\n"
          ]
        }
      ]
    },
    {
      "cell_type": "code",
      "source": [],
      "metadata": {
        "id": "CGvy7AhT9Lly"
      },
      "execution_count": null,
      "outputs": []
    }
  ]
}