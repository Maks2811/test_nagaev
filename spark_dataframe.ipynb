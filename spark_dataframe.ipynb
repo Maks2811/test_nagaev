{
  "nbformat": 4,
  "nbformat_minor": 0,
  "metadata": {
    "colab": {
      "provenance": [],
      "name": "spark_dataframe.ipynb",
      "authorship_tag": "ABX9TyMR18qF22DtzXc06DALi/T5",
      "include_colab_link": true
    },
    "kernelspec": {
      "name": "python3",
      "display_name": "Python 3"
    },
    "language_info": {
      "name": "python"
    }
  },
  "cells": [
    {
      "cell_type": "markdown",
      "metadata": {
        "id": "view-in-github",
        "colab_type": "text"
      },
      "source": [
        "<a href=\"https://colab.research.google.com/github/Maks2811/test_nagaev/blob/main/spark_dataframe.ipynb\" target=\"_parent\"><img src=\"https://colab.research.google.com/assets/colab-badge.svg\" alt=\"Open In Colab\"/></a>"
      ]
    },
    {
      "cell_type": "code",
      "source": [
        "!pip install pyspark"
      ],
      "metadata": {
        "colab": {
          "base_uri": "https://localhost:8080/"
        },
        "id": "PqvPKrlMPdN5",
        "outputId": "776e4c7a-746c-4ef8-b3b1-40bf8384a032"
      },
      "execution_count": 3,
      "outputs": [
        {
          "output_type": "stream",
          "name": "stdout",
          "text": [
            "Collecting pyspark\n",
            "  Downloading pyspark-3.5.1.tar.gz (317.0 MB)\n",
            "\u001b[2K     \u001b[90m━━━━━━━━━━━━━━━━━━━━━━━━━━━━━━━━━━━━━━━━\u001b[0m \u001b[32m317.0/317.0 MB\u001b[0m \u001b[31m2.3 MB/s\u001b[0m eta \u001b[36m0:00:00\u001b[0m\n",
            "\u001b[?25h  Preparing metadata (setup.py) ... \u001b[?25l\u001b[?25hdone\n",
            "Requirement already satisfied: py4j==0.10.9.7 in /usr/local/lib/python3.10/dist-packages (from pyspark) (0.10.9.7)\n",
            "Building wheels for collected packages: pyspark\n",
            "  Building wheel for pyspark (setup.py) ... \u001b[?25l\u001b[?25hdone\n",
            "  Created wheel for pyspark: filename=pyspark-3.5.1-py2.py3-none-any.whl size=317488491 sha256=ed024abd300c0d61f37cb6434085f2dccafd117cfd04123bad233f9339bdf898\n",
            "  Stored in directory: /root/.cache/pip/wheels/80/1d/60/2c256ed38dddce2fdd93be545214a63e02fbd8d74fb0b7f3a6\n",
            "Successfully built pyspark\n",
            "Installing collected packages: pyspark\n",
            "Successfully installed pyspark-3.5.1\n"
          ]
        }
      ]
    },
    {
      "cell_type": "markdown",
      "source": [
        "# **Создание датафрейма с описанием схемы**"
      ],
      "metadata": {
        "id": "cnE4dOH1fx7E"
      }
    },
    {
      "cell_type": "code",
      "execution_count": 8,
      "metadata": {
        "colab": {
          "base_uri": "https://localhost:8080/"
        },
        "id": "XcNesoUqBD6L",
        "outputId": "c57321e1-9cd2-471d-ddb0-6e2fd9789f2d"
      },
      "outputs": [
        {
          "output_type": "stream",
          "name": "stdout",
          "text": [
            "root\n",
            " |-- name: string (nullable = true)\n",
            " |-- age: integer (nullable = true)\n",
            "\n",
            "+-----+---+\n",
            "| name|age|\n",
            "+-----+---+\n",
            "|Alice| 25|\n",
            "|Artem| 26|\n",
            "| Ivan| 48|\n",
            "+-----+---+\n",
            "\n"
          ]
        }
      ],
      "source": [
        "from pyspark.sql import SparkSession\n",
        "from pyspark.sql.types import StructType, StructField, StringType, IntegerType\n",
        "\n",
        "spark = SparkSession.builder \\\n",
        ".appName(\"schema\") \\\n",
        ".config(\"spark.master\", \"local[*]\") \\\n",
        ".getOrCreate()\n",
        "\n",
        "# создаем набор данных\n",
        "data =[(\"Alice\", 25), (\"Artem\", 26), (\"Ivan\", 48)]\n",
        "\n",
        "# описываем схему датафрейма\n",
        "schema = StructType([\n",
        "    StructField(\"name\", StringType(), True),\n",
        "    StructField(\"age\", IntegerType(), True)\n",
        "])\n",
        "\n",
        "# Создаем датафрейм\n",
        "df =spark.createDataFrame(data, schema)\n",
        "\n",
        "# Выводим схему на печать\n",
        "df.printSchema()\n",
        "\n",
        "df.show()\n",
        "\n",
        "spark.stop()"
      ]
    },
    {
      "cell_type": "markdown",
      "source": [
        "# **Создание датафрейма без явного указания схемы**"
      ],
      "metadata": {
        "id": "gHFHfdmSfqKS"
      }
    },
    {
      "cell_type": "code",
      "source": [
        "from pyspark.sql import SparkSession\n",
        "from pyspark.sql.types import StructType, StructField, StringType, IntegerType\n",
        "\n",
        "spark = SparkSession.builder \\\n",
        ".appName(\"schema\") \\\n",
        ".config(\"spark.master\", \"local[*]\") \\\n",
        ".getOrCreate()\n",
        "\n",
        "# создаем набор данных без уточнения схемы\n",
        "data =[{\"name\":\"Alice\", \"age\":29},\n",
        "       {\"name\":\"Artem\", \"age\":129},\n",
        "       {\"name\":\"Ivan\", \"age\":56}\n",
        "       ]\n",
        "\n",
        "# Создаем датафрейм\n",
        "df =spark.createDataFrame(data, schema)\n",
        "\n",
        "# Выводим схему на печать\n",
        "df.printSchema()\n",
        "\n",
        "df.show()   # выводим, датафрейм, схема распознается автоматически\n",
        "\n",
        "spark.stop()"
      ],
      "metadata": {
        "id": "xzgWQYf2DfhW",
        "colab": {
          "base_uri": "https://localhost:8080/"
        },
        "outputId": "341de51b-da8d-4805-cb78-152c4571926c"
      },
      "execution_count": 11,
      "outputs": [
        {
          "output_type": "stream",
          "name": "stdout",
          "text": [
            "root\n",
            " |-- name: string (nullable = true)\n",
            " |-- age: integer (nullable = true)\n",
            "\n",
            "+-----+---+\n",
            "| name|age|\n",
            "+-----+---+\n",
            "|Alice| 29|\n",
            "|Artem|129|\n",
            "| Ivan| 56|\n",
            "+-----+---+\n",
            "\n"
          ]
        }
      ]
    },
    {
      "cell_type": "markdown",
      "source": [
        "# **Создание датафрейма из RDD**"
      ],
      "metadata": {
        "id": "thjyDkMqhYqo"
      }
    },
    {
      "cell_type": "code",
      "source": [
        "from pyspark.sql import SparkSession\n",
        "from pyspark.sql.types import StructType, StructField, StringType, IntegerType\n",
        "\n",
        "spark = SparkSession.builder \\\n",
        ".appName(\"schema\") \\\n",
        ".config(\"spark.master\", \"local[*]\") \\\n",
        ".getOrCreate()\n",
        "\n",
        "# создаем набор данных без уточнения схемы\n",
        "data =[(\"Alice\", 25), (\"Artem\", 26), (\"Ivan\", 48)]\n",
        "\n",
        "rdd = spark.sparkContext.parallelize(data)  # создаем rdd\n",
        "\n",
        "# Создаем датафрейм\n",
        "df = rdd.toDF([\"name\", \"age\"])   # создаем датафрейм, в скобках указываем названия полей\n",
        "# Выводим схему на печать\n",
        "df.printSchema()\n",
        "\n",
        "df.show(1)   # выводим только первую строку датафрейма\n",
        "spark.stop()"
      ],
      "metadata": {
        "colab": {
          "base_uri": "https://localhost:8080/"
        },
        "id": "uH7gjnnxfmAa",
        "outputId": "59751ec2-a945-4280-d713-c99684bc11ad"
      },
      "execution_count": 13,
      "outputs": [
        {
          "output_type": "stream",
          "name": "stdout",
          "text": [
            "root\n",
            " |-- name: string (nullable = true)\n",
            " |-- age: long (nullable = true)\n",
            "\n",
            "+-----+---+\n",
            "| name|age|\n",
            "+-----+---+\n",
            "|Alice| 25|\n",
            "+-----+---+\n",
            "only showing top 1 row\n",
            "\n"
          ]
        }
      ]
    },
    {
      "cell_type": "markdown",
      "source": [
        "# **Различные методы**"
      ],
      "metadata": {
        "id": "_Mkn_im7v096"
      }
    },
    {
      "cell_type": "code",
      "source": [
        "from pyspark.sql import SparkSession\n",
        "from pyspark.sql.types import StructType, StructField, StringType, IntegerType\n",
        "\n",
        "spark = SparkSession.builder \\\n",
        ".appName(\"schema\") \\\n",
        ".config(\"spark.master\", \"local[*]\") \\\n",
        ".getOrCreate()\n",
        "\n",
        "# создаем набор данных без уточнения схемы\n",
        "data =[(\"Alice\", 25), (\"Artem\", 26), (\"Ivan\", 48)]\n",
        "\n",
        "rdd = spark.sparkContext.parallelize(data)  # создаем rdd\n",
        "\n",
        "# Создаем датафрейм\n",
        "df = rdd.toDF([\"name\", \"age\"])   # создаем датафрейм, в скобках указываем названия полей\n",
        "# Выводим схему на печать\n",
        "df.printSchema()\n",
        "\n",
        "df.show()\n",
        "print(df.head(2))\n",
        "print(df.take(2))\n",
        "print(df.head())\n",
        "\n",
        "spark.stop()"
      ],
      "metadata": {
        "colab": {
          "base_uri": "https://localhost:8080/"
        },
        "id": "q21jrdAme3ZG",
        "outputId": "b3379afe-ade6-458d-f39e-32d21d0a4522"
      },
      "execution_count": 14,
      "outputs": [
        {
          "output_type": "stream",
          "name": "stdout",
          "text": [
            "root\n",
            " |-- name: string (nullable = true)\n",
            " |-- age: long (nullable = true)\n",
            "\n",
            "+-----+---+\n",
            "| name|age|\n",
            "+-----+---+\n",
            "|Alice| 25|\n",
            "|Artem| 26|\n",
            "| Ivan| 48|\n",
            "+-----+---+\n",
            "\n",
            "[Row(name='Alice', age=25), Row(name='Artem', age=26)]\n",
            "[Row(name='Alice', age=25), Row(name='Artem', age=26)]\n",
            "Row(name='Alice', age=25)\n"
          ]
        }
      ]
    },
    {
      "cell_type": "code",
      "source": [
        "from pyspark.sql import SparkSession\n",
        "from pyspark.sql.types import StructType, StructField, StringType, IntegerType\n",
        "\n",
        "spark = SparkSession.builder \\\n",
        ".appName(\"schema\") \\\n",
        ".config(\"spark.master\", \"local[*]\") \\\n",
        ".getOrCreate()\n",
        "\n",
        "# создаем набор данных без уточнения схемы\n",
        "data =[(\"Alice\", 25), (\"Artem\", 26), (\"Ivan\", 48)]\n",
        "\n",
        "rdd = spark.sparkContext.parallelize(data)  # создаем rdd\n",
        "\n",
        "# Создаем датафрейм\n",
        "df = rdd.toDF([\"name\", \"age\"])   # создаем датафрейм, в скобках указываем названия полей\n",
        "# Выводим схему на печать\n",
        "df.printSchema()\n",
        "\n",
        "df.show()\n",
        "\n",
        "columns = df.columns\n",
        "print(columns)    # выводим список названий колонок(полей)\n",
        "\n",
        "print(df.dtypes)  # выводим наименования колонок с типами данных в них\n",
        "\n",
        "# spark.stop()"
      ],
      "metadata": {
        "colab": {
          "base_uri": "https://localhost:8080/"
        },
        "id": "1Vh-JwsSwM3t",
        "outputId": "2fe98d5e-7b62-441f-ffce-b4caf2e4a5e1"
      },
      "execution_count": 20,
      "outputs": [
        {
          "output_type": "stream",
          "name": "stdout",
          "text": [
            "root\n",
            " |-- name: string (nullable = true)\n",
            " |-- age: long (nullable = true)\n",
            "\n",
            "+-----+---+\n",
            "| name|age|\n",
            "+-----+---+\n",
            "|Alice| 25|\n",
            "|Artem| 26|\n",
            "| Ivan| 48|\n",
            "+-----+---+\n",
            "\n",
            "['name', 'age']\n",
            "[('name', 'string'), ('age', 'bigint')]\n"
          ]
        }
      ]
    },
    {
      "cell_type": "code",
      "source": [
        "df.select(\"name\").show()     # возвращает данные из столбца name"
      ],
      "metadata": {
        "colab": {
          "base_uri": "https://localhost:8080/"
        },
        "id": "-Dm2a9CCwgBw",
        "outputId": "abd51f6f-f18a-4252-951b-4eda535844e7"
      },
      "execution_count": 21,
      "outputs": [
        {
          "output_type": "stream",
          "name": "stdout",
          "text": [
            "+-----+\n",
            "| name|\n",
            "+-----+\n",
            "|Alice|\n",
            "|Artem|\n",
            "| Ivan|\n",
            "+-----+\n",
            "\n"
          ]
        }
      ]
    },
    {
      "cell_type": "code",
      "source": [
        "df.selectExpr(\"name\", \"age + 1 as age_plus_one\").show()   # прибавялем 1 к возрасту и обозначаем alias для получившегося результата"
      ],
      "metadata": {
        "colab": {
          "base_uri": "https://localhost:8080/"
        },
        "id": "nxvrmkQfxYkK",
        "outputId": "923eef18-7955-494c-e0d5-89a43db14c57"
      },
      "execution_count": 22,
      "outputs": [
        {
          "output_type": "stream",
          "name": "stdout",
          "text": [
            "+-----+------------+\n",
            "| name|age_plus_one|\n",
            "+-----+------------+\n",
            "|Alice|          26|\n",
            "|Artem|          27|\n",
            "| Ivan|          49|\n",
            "+-----+------------+\n",
            "\n"
          ]
        }
      ]
    },
    {
      "cell_type": "code",
      "source": [
        "df.filter(df[\"age\"]>30).show()        # фильтрация по условию (age>30)"
      ],
      "metadata": {
        "colab": {
          "base_uri": "https://localhost:8080/"
        },
        "id": "fQVXHwcyxyjQ",
        "outputId": "f5714cf5-f0cc-456a-e60a-8a5f4c3e30cf"
      },
      "execution_count": 24,
      "outputs": [
        {
          "output_type": "stream",
          "name": "stdout",
          "text": [
            "+----+---+\n",
            "|name|age|\n",
            "+----+---+\n",
            "|Ivan| 48|\n",
            "+----+---+\n",
            "\n"
          ]
        }
      ]
    },
    {
      "cell_type": "code",
      "source": [
        "df.where(df[\"age\"]>30).show()     # фильтрация по условию (age>30)"
      ],
      "metadata": {
        "colab": {
          "base_uri": "https://localhost:8080/"
        },
        "id": "IXrss4XgyVLa",
        "outputId": "7df3a3b0-95fb-40b4-bcf4-326e107f6f63"
      },
      "execution_count": 25,
      "outputs": [
        {
          "output_type": "stream",
          "name": "stdout",
          "text": [
            "+----+---+\n",
            "|name|age|\n",
            "+----+---+\n",
            "|Ivan| 48|\n",
            "+----+---+\n",
            "\n"
          ]
        }
      ]
    },
    {
      "cell_type": "code",
      "source": [
        "df.groupBy(\"age\").count().show()    # группировка с агрегацией"
      ],
      "metadata": {
        "colab": {
          "base_uri": "https://localhost:8080/"
        },
        "id": "irRCFir-yksr",
        "outputId": "4f9a8fdc-e099-420a-8c80-03d2fea6634a"
      },
      "execution_count": 26,
      "outputs": [
        {
          "output_type": "stream",
          "name": "stdout",
          "text": [
            "+---+-----+\n",
            "|age|count|\n",
            "+---+-----+\n",
            "| 25|    1|\n",
            "| 26|    1|\n",
            "| 48|    1|\n",
            "+---+-----+\n",
            "\n"
          ]
        }
      ]
    },
    {
      "cell_type": "code",
      "source": [
        "from pyspark.sql.functions import avg, max\n",
        "df.groupby(\"name\").agg(\n",
        "    avg(\"age\").alias(\"average_age\"),\n",
        "    max(\"age\").alias(\"max_age\")\n",
        ").show()"
      ],
      "metadata": {
        "colab": {
          "base_uri": "https://localhost:8080/"
        },
        "id": "iio7ra0hywSk",
        "outputId": "9a0173d9-e524-48b6-aa33-6b85676f2240"
      },
      "execution_count": 29,
      "outputs": [
        {
          "output_type": "stream",
          "name": "stdout",
          "text": [
            "+-----+-----------+-------+\n",
            "| name|average_age|max_age|\n",
            "+-----+-----------+-------+\n",
            "|Alice|       25.0|     25|\n",
            "|Artem|       26.0|     26|\n",
            "| Ivan|       48.0|     48|\n",
            "+-----+-----------+-------+\n",
            "\n"
          ]
        }
      ]
    },
    {
      "cell_type": "code",
      "source": [
        "df.orderBy(df[\"name\"].desc()).show()   # сортировка в обратном порядке"
      ],
      "metadata": {
        "colab": {
          "base_uri": "https://localhost:8080/"
        },
        "id": "Mw7uzNs2zUyA",
        "outputId": "6396ef94-1602-4960-94f2-c81001c76315"
      },
      "execution_count": 33,
      "outputs": [
        {
          "output_type": "stream",
          "name": "stdout",
          "text": [
            "+-----+---+\n",
            "| name|age|\n",
            "+-----+---+\n",
            "| Ivan| 48|\n",
            "|Artem| 26|\n",
            "|Alice| 25|\n",
            "+-----+---+\n",
            "\n"
          ]
        }
      ]
    },
    {
      "cell_type": "code",
      "source": [
        "df.orderBy(\"name\").show()   # сортировка"
      ],
      "metadata": {
        "colab": {
          "base_uri": "https://localhost:8080/"
        },
        "id": "b_Pv_e7gz2by",
        "outputId": "f76436e2-69ef-408b-ac8c-a728d3032e1d"
      },
      "execution_count": 34,
      "outputs": [
        {
          "output_type": "stream",
          "name": "stdout",
          "text": [
            "+-----+---+\n",
            "| name|age|\n",
            "+-----+---+\n",
            "|Alice| 25|\n",
            "|Artem| 26|\n",
            "| Ivan| 48|\n",
            "+-----+---+\n",
            "\n"
          ]
        }
      ]
    },
    {
      "cell_type": "code",
      "source": [
        "df.sort(\"age\", ascending=False).show()      # сортировка по убыванию"
      ],
      "metadata": {
        "colab": {
          "base_uri": "https://localhost:8080/"
        },
        "id": "tjbOTevw0jXz",
        "outputId": "0999c991-47b4-4e68-aebf-c2e2f71a4421"
      },
      "execution_count": 35,
      "outputs": [
        {
          "output_type": "stream",
          "name": "stdout",
          "text": [
            "+-----+---+\n",
            "| name|age|\n",
            "+-----+---+\n",
            "| Ivan| 48|\n",
            "|Artem| 26|\n",
            "|Alice| 25|\n",
            "+-----+---+\n",
            "\n"
          ]
        }
      ]
    },
    {
      "cell_type": "code",
      "source": [
        "from pyspark.sql.functions import col\n",
        "\n",
        "df.withColumn(\"age_plus_one\", df[\"age\"]+1).show()   # добавляем новую колонку с алиасом\n",
        "\n",
        "df_1 = df.withColumn(\"age_*_two\", df[\"age\"]*2).show()  # присваиваем переменной значение df с новой колонкой\n",
        "print(df_1)"
      ],
      "metadata": {
        "colab": {
          "base_uri": "https://localhost:8080/"
        },
        "id": "1j31FVcw0xl2",
        "outputId": "8026ca57-aa80-4cca-a2a0-5c73eea763e8"
      },
      "execution_count": 39,
      "outputs": [
        {
          "output_type": "stream",
          "name": "stdout",
          "text": [
            "+-----+---+------------+\n",
            "| name|age|age_plus_one|\n",
            "+-----+---+------------+\n",
            "|Alice| 25|          26|\n",
            "|Artem| 26|          27|\n",
            "| Ivan| 48|          49|\n",
            "+-----+---+------------+\n",
            "\n",
            "+-----+---+---------+\n",
            "| name|age|age_*_two|\n",
            "+-----+---+---------+\n",
            "|Alice| 25|       50|\n",
            "|Artem| 26|       52|\n",
            "| Ivan| 48|       96|\n",
            "+-----+---+---------+\n",
            "\n",
            "None\n"
          ]
        }
      ]
    },
    {
      "cell_type": "code",
      "source": [
        "df.withColumnRenamed(\"age\", \"fio\").show()   # переименовываем колонку"
      ],
      "metadata": {
        "colab": {
          "base_uri": "https://localhost:8080/"
        },
        "id": "Civ6ZucL1OaI",
        "outputId": "5b810577-4182-4ffc-e9c0-d808b6150681"
      },
      "execution_count": 40,
      "outputs": [
        {
          "output_type": "stream",
          "name": "stdout",
          "text": [
            "+-----+---+\n",
            "| name|fio|\n",
            "+-----+---+\n",
            "|Alice| 25|\n",
            "|Artem| 26|\n",
            "| Ivan| 48|\n",
            "+-----+---+\n",
            "\n"
          ]
        }
      ]
    },
    {
      "cell_type": "code",
      "source": [
        "df.drop(\"name\").show()   # удаляем столбец"
      ],
      "metadata": {
        "colab": {
          "base_uri": "https://localhost:8080/"
        },
        "id": "_oX_473D2-5x",
        "outputId": "ff88d43b-5c7b-497f-ca2b-86e67ceec9de"
      },
      "execution_count": 41,
      "outputs": [
        {
          "output_type": "stream",
          "name": "stdout",
          "text": [
            "+---+\n",
            "|age|\n",
            "+---+\n",
            "| 25|\n",
            "| 26|\n",
            "| 48|\n",
            "+---+\n",
            "\n"
          ]
        }
      ]
    },
    {
      "cell_type": "code",
      "source": [
        "df.distinct().show()    # вывод уникальных записей"
      ],
      "metadata": {
        "colab": {
          "base_uri": "https://localhost:8080/"
        },
        "id": "wmWwsef33IRr",
        "outputId": "ae88aefc-8e7c-402e-a73e-c3b91fe41135"
      },
      "execution_count": 42,
      "outputs": [
        {
          "output_type": "stream",
          "name": "stdout",
          "text": [
            "+-----+---+\n",
            "| name|age|\n",
            "+-----+---+\n",
            "|Alice| 25|\n",
            "| Ivan| 48|\n",
            "|Artem| 26|\n",
            "+-----+---+\n",
            "\n"
          ]
        }
      ]
    },
    {
      "cell_type": "code",
      "source": [
        "df.limit(1).show()    # вывод первой строки (записи)"
      ],
      "metadata": {
        "colab": {
          "base_uri": "https://localhost:8080/"
        },
        "id": "VFtwow153SdD",
        "outputId": "7e0acc91-e07c-4e22-8074-d8f1ca5cb0b3"
      },
      "execution_count": 43,
      "outputs": [
        {
          "output_type": "stream",
          "name": "stdout",
          "text": [
            "+-----+---+\n",
            "| name|age|\n",
            "+-----+---+\n",
            "|Alice| 25|\n",
            "+-----+---+\n",
            "\n"
          ]
        }
      ]
    },
    {
      "cell_type": "code",
      "source": [
        "df1 = spark.createDataFrame([(1,\"Artem\"), (2, \"Bob\")], [\"id\",\"Ivan\"])\n",
        "df2 = spark.createDataFrame([(1,100), (2, 200)], [\"id\",\"Ivan\"])\n",
        "\n",
        "df_join = df1.join(df2, \"id\", \"inner\")\n",
        "df_join.show()"
      ],
      "metadata": {
        "colab": {
          "base_uri": "https://localhost:8080/"
        },
        "id": "nfRSDhgo3tK9",
        "outputId": "4b87eed8-54ae-4a39-ac26-2761ebe9cb12"
      },
      "execution_count": 45,
      "outputs": [
        {
          "output_type": "stream",
          "name": "stdout",
          "text": [
            "+---+-----+----+\n",
            "| id| Ivan|Ivan|\n",
            "+---+-----+----+\n",
            "|  1|Artem| 100|\n",
            "|  2|  Bob| 200|\n",
            "+---+-----+----+\n",
            "\n"
          ]
        }
      ]
    },
    {
      "cell_type": "code",
      "source": [
        "df1 = spark.createDataFrame([(1,\"Artem\"), (2, \"Bob\")], [\"id\",\"Ivan\"])\n",
        "df2 = spark.createDataFrame([(1,100), (2, 200)], [\"id\",\"Ivan\"])\n",
        "\n",
        "df_join = df1.join(df2)           # делаем join\n",
        "df_join.show()"
      ],
      "metadata": {
        "colab": {
          "base_uri": "https://localhost:8080/"
        },
        "id": "sbD9blW45A8c",
        "outputId": "4bfce34d-a090-47be-ea6a-d3d521cfcb0e"
      },
      "execution_count": 48,
      "outputs": [
        {
          "output_type": "stream",
          "name": "stdout",
          "text": [
            "+---+-----+---+----+\n",
            "| id| Ivan| id|Ivan|\n",
            "+---+-----+---+----+\n",
            "|  1|Artem|  1| 100|\n",
            "|  1|Artem|  2| 200|\n",
            "|  2|  Bob|  1| 100|\n",
            "|  2|  Bob|  2| 200|\n",
            "+---+-----+---+----+\n",
            "\n"
          ]
        }
      ]
    },
    {
      "cell_type": "code",
      "source": [
        "df.sample(withReplacement=False, fraction=0.1).show()    # сэмплирование. Случайная выборка данных из датафрейма"
      ],
      "metadata": {
        "colab": {
          "base_uri": "https://localhost:8080/"
        },
        "id": "80zOzTkk5qBv",
        "outputId": "4350e250-aa32-49bc-c27a-69b94caa2653"
      },
      "execution_count": 50,
      "outputs": [
        {
          "output_type": "stream",
          "name": "stdout",
          "text": [
            "+----+---+\n",
            "|name|age|\n",
            "+----+---+\n",
            "+----+---+\n",
            "\n"
          ]
        }
      ]
    },
    {
      "cell_type": "code",
      "source": [],
      "metadata": {
        "id": "WUGD7U_z6RVS"
      },
      "execution_count": 49,
      "outputs": []
    }
  ]
}