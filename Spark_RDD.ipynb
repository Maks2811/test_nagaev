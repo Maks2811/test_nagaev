{
  "nbformat": 4,
  "nbformat_minor": 0,
  "metadata": {
    "colab": {
      "provenance": [],
      "authorship_tag": "ABX9TyNjDF2hSUYcEs3a3zFjJZBR",
      "include_colab_link": true
    },
    "kernelspec": {
      "name": "python3",
      "display_name": "Python 3"
    },
    "language_info": {
      "name": "python"
    }
  },
  "cells": [
    {
      "cell_type": "markdown",
      "metadata": {
        "id": "view-in-github",
        "colab_type": "text"
      },
      "source": [
        "<a href=\"https://colab.research.google.com/github/Maks2811/test_nagaev/blob/main/Spark_RDD.ipynb\" target=\"_parent\"><img src=\"https://colab.research.google.com/assets/colab-badge.svg\" alt=\"Open In Colab\"/></a>"
      ]
    },
    {
      "cell_type": "code",
      "execution_count": 7,
      "metadata": {
        "colab": {
          "base_uri": "https://localhost:8080/"
        },
        "id": "XcNesoUqBD6L",
        "outputId": "6d474b4c-13f5-478c-ce90-17858b302119"
      },
      "outputs": [
        {
          "output_type": "stream",
          "name": "stdout",
          "text": [
            "[2, 4, 6, 8, 10, 12, 14, 16, 18, 20]\n"
          ]
        }
      ],
      "source": [
        "from pyspark.sql import SparkSession\n",
        "\n",
        "spark = SparkSession.builder \\\n",
        "        .appName(\"MySparkApp\") \\\n",
        "        .config(\"spark.master\", \"local[*]\") \\\n",
        "        .getOrCreate()\n",
        "\n",
        "sc = spark.sparkContext\n",
        "\n",
        "data = [1,2,3,4,5,6,7,8,9,10]\n",
        "rdd = sc.parallelize(data)\n",
        "\n",
        "rdd_mapped=rdd.map(lambda x: x*2)           # умножаем все значения на 2\n",
        "print(rdd_mapped.collect())\n",
        "\n"
      ]
    },
    {
      "cell_type": "code",
      "source": [
        "from pyspark.sql import SparkSession\n",
        "\n",
        "spark = SparkSession.builder \\\n",
        "        .appName(\"MySparkApp\") \\\n",
        "        .config(\"spark.master\", \"local[*]\") \\\n",
        "        .getOrCreate()\n",
        "\n",
        "sc = spark.sparkContext\n",
        "\n",
        "data = [1,2,3,4,5,6,7,8,9,10]\n",
        "rdd = sc.parallelize(data)\n",
        "\n",
        "rdd_mapped=rdd.filter(lambda x: x%2 == 0)           # оставляем только четные значения\n",
        "print(rdd_mapped.collect())\n"
      ],
      "metadata": {
        "colab": {
          "base_uri": "https://localhost:8080/"
        },
        "id": "FyAd-mNwGlEy",
        "outputId": "01f16e80-34c5-42eb-b973-efe7fe1f54fc"
      },
      "execution_count": 8,
      "outputs": [
        {
          "output_type": "stream",
          "name": "stdout",
          "text": [
            "[2, 4, 6, 8, 10]\n"
          ]
        }
      ]
    },
    {
      "cell_type": "code",
      "source": [
        "from pyspark.sql import SparkSession\n",
        "\n",
        "spark = SparkSession.builder \\\n",
        "        .appName(\"MySparkApp\") \\\n",
        "        .config(\"spark.master\", \"local[*]\") \\\n",
        "        .getOrCreate()\n",
        "\n",
        "sc = spark.sparkContext\n",
        "\n",
        "data = [1,2,3,3,4,4,5,5,6,6,7,8,9,10]\n",
        "rdd = sc.parallelize(data)\n",
        "\n",
        "rdd_mapped=rdd.distinct()\n",
        "print(rdd_mapped.collect())"
      ],
      "metadata": {
        "colab": {
          "base_uri": "https://localhost:8080/"
        },
        "id": "ldBOxDusHHIc",
        "outputId": "410ef295-5eb1-43fc-d664-4cae489f85b2"
      },
      "execution_count": 11,
      "outputs": [
        {
          "output_type": "stream",
          "name": "stdout",
          "text": [
            "[2, 4, 6, 8, 10, 1, 3, 5, 7, 9]\n"
          ]
        }
      ]
    },
    {
      "cell_type": "code",
      "source": [
        "from pyspark.sql import SparkSession\n",
        "\n",
        "spark = SparkSession.builder \\\n",
        "        .appName(\"MySparkApp\") \\\n",
        "        .config(\"spark.master\", \"local[*]\") \\\n",
        "        .getOrCreate()\n",
        "\n",
        "sc = spark.sparkContext\n",
        "\n",
        "data1 = [1,2,3,3,4,4,5,5,6,6,7,8,9,10]\n",
        "data2 = [1,2,3,3,40]\n",
        "rdd1 = sc.parallelize(data1)\n",
        "rdd2 = sc.parallelize(data2)\n",
        "rdd_union = rdd1.union(rdd2)          # Объединяем RDD\n",
        "\n",
        "print(rdd_union.collect())\n",
        "print(rdd1.count())               # выводим длину rdd1\n",
        "print(rdd1.first())               # выводим первый элемент rdd1\n",
        "print(rdd2.take(3))               # выводим первые три элемента rdd2"
      ],
      "metadata": {
        "colab": {
          "base_uri": "https://localhost:8080/"
        },
        "id": "fFduu3_EHknB",
        "outputId": "6ce31305-3e5e-46cb-bc84-ffc26bb27f70"
      },
      "execution_count": 17,
      "outputs": [
        {
          "output_type": "stream",
          "name": "stdout",
          "text": [
            "[1, 2, 3, 3, 4, 4, 5, 5, 6, 6, 7, 8, 9, 10, 1, 2, 3, 3, 40]\n",
            "14\n",
            "1\n",
            "[1, 2, 3]\n"
          ]
        }
      ]
    },
    {
      "cell_type": "code",
      "source": [
        "from pyspark.sql import SparkSession\n",
        "from operator import add\n",
        "\n",
        "spark = SparkSession.builder \\\n",
        "        .appName(\"MySparkApp\") \\\n",
        "        .config(\"spark.master\", \"local[*]\") \\\n",
        "        .getOrCreate()\n",
        "\n",
        "sc = spark.sparkContext\n",
        "\n",
        "data1 = [1,2,3,3,4,4,5,5,6,6,7,8,9,10]\n",
        "data2 = [1,2,3,3,40]\n",
        "rdd1 = sc.parallelize(data1)\n",
        "rdd2 = sc.parallelize(data2)\n",
        "\n",
        "print(\"reduce\", rdd2.reduce(add))               # складываем все значепния rdd"
      ],
      "metadata": {
        "colab": {
          "base_uri": "https://localhost:8080/"
        },
        "id": "IcBHkMa69i0R",
        "outputId": "99175f24-6649-4397-d64e-700aefc31c83"
      },
      "execution_count": 18,
      "outputs": [
        {
          "output_type": "stream",
          "name": "stdout",
          "text": [
            "reduce 49\n"
          ]
        }
      ]
    },
    {
      "cell_type": "code",
      "source": [
        "from pyspark.sql import SparkSession\n",
        "from operator import add\n",
        "\n",
        "spark = SparkSession.builder \\\n",
        "        .appName(\"MySparkApp\") \\\n",
        "        .config(\"spark.master\", \"local[*]\") \\\n",
        "        .getOrCreate()\n",
        "\n",
        "sc = spark.sparkContext\n",
        "\n",
        "data1 = [1,2,3,3,4,4,5,5,6,6,7,8,9,10]\n",
        "data2 = [1,2,3,3,40]\n",
        "rdd1 = sc.parallelize(data1)\n",
        "rdd2.foreach(lambda x: print(x))\n",
        ""
      ],
      "metadata": {
        "id": "r7WupKtK-851"
      },
      "execution_count": 20,
      "outputs": []
    },
    {
      "cell_type": "code",
      "source": [],
      "metadata": {
        "id": "xzgWQYf2DfhW"
      },
      "execution_count": null,
      "outputs": []
    }
  ]
}