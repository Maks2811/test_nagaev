{
  "nbformat": 4,
  "nbformat_minor": 0,
  "metadata": {
    "colab": {
      "provenance": [],
      "authorship_tag": "ABX9TyOLy2X9Rta7qy4seXSjReuj",
      "include_colab_link": true
    },
    "kernelspec": {
      "name": "python3",
      "display_name": "Python 3"
    },
    "language_info": {
      "name": "python"
    }
  },
  "cells": [
    {
      "cell_type": "markdown",
      "metadata": {
        "id": "view-in-github",
        "colab_type": "text"
      },
      "source": [
        "<a href=\"https://colab.research.google.com/github/Maks2811/test_nagaev/blob/main/task_14_10.ipynb\" target=\"_parent\"><img src=\"https://colab.research.google.com/assets/colab-badge.svg\" alt=\"Open In Colab\"/></a>"
      ]
    },
    {
      "cell_type": "code",
      "execution_count": 1,
      "metadata": {
        "colab": {
          "base_uri": "https://localhost:8080/"
        },
        "id": "jzFo9czYBJNH",
        "outputId": "3f465f45-7458-4e1c-bffa-34b238117397"
      },
      "outputs": [
        {
          "output_type": "stream",
          "name": "stdout",
          "text": [
            "Requirement already satisfied: pyspark in /usr/local/lib/python3.10/dist-packages (3.5.1)\n",
            "Requirement already satisfied: py4j==0.10.9.7 in /usr/local/lib/python3.10/dist-packages (from pyspark) (0.10.9.7)\n"
          ]
        }
      ],
      "source": [
        "!pip install pyspark"
      ]
    },
    {
      "cell_type": "code",
      "source": [
        "from pyspark.sql import SparkSession\n",
        "from pyspark.sql.functions import to_date, col, sum, mean, month, year\n",
        "\n",
        "spark = SparkSession.builder \\\n",
        ".appName(\"read_csv\") \\\n",
        ".getOrCreate()\n",
        "\n",
        "# создаем датафрейм из csv файла\n",
        "df = spark.read.option(\"header\", \"true\").csv(\"/content/weather_data.csv\")\n",
        "df.printSchema()\n",
        "\n",
        "# преобразуем формат данных в колонке \"date\"\n",
        "df = df.withColumn(\"date\", to_date(df[\"date\"], \"yyyy-MM-dd\"))\n",
        "\n",
        "# преобразуем остальные колонки в тип данных с плавающей запятой\n",
        "df = df.withColumn(\"temperature\", col(\"temperature\").cast(\"float\"))\n",
        "df = df.withColumn(\"precipitation\", col(\"precipitation\").cast(\"float\"))\n",
        "df = df.withColumn(\"wind_speed\", col(\"wind_speed\").cast(\"float\"))\n",
        "\n",
        "# Выводим схему после всех преобразований типов данных\n",
        "df.printSchema()\n",
        "\n",
        "df.show()\n",
        "\n",
        "# проверяем наличие значений null в датафрейме\n",
        "null_counts = df.select([sum(col(c).isNull().cast(\"int\")).alias(c) for c in df.columns])\n",
        "null_counts.show()\n",
        "\n",
        "# 3.1 находим 5 самых жарких дней\n",
        "\n",
        "hottest_days = df.select(col(\"date\"), col(\"temperature\"))\n",
        "\n",
        "print(\"Результат 3.1\")\n",
        "hottest_days.orderBy(col(\"temperature\").desc()).limit(5).show()\n",
        "\n",
        "\n",
        "# 3.2 находим метеостанцию с наибольшим количеством осадков за последний год.\n",
        "\n",
        "# выбираем данные только за последний год\n",
        "last_year = df.filter(col(\"date\") > \"2022-12-31\")\n",
        "#last_year.show()\n",
        "\n",
        "# вычисляем сумм осадков с группировкой по метеостанциям\n",
        "agg_df = last_year.groupBy(\"station_id\").agg(sum(\"precipitation\"))\n",
        "\n",
        "# делаем сортировку по убыванию и выводим станцию стоящую на 1 месте\n",
        "print(\"Результат 3.2\")\n",
        "agg_df.orderBy(col(\"sum(precipitation)\").desc()).limit(1).show()\n",
        "\n",
        "# 3.3 Подсчитываем среднюю температуру по месяцам за все время наблюдений.\n",
        "\n",
        "# добавляем новую колонку, которая содержжит толькол месяц из даты\n",
        "month_temp = df.withColumn(\"month\", month(col(\"date\")))\n",
        "\n",
        "# выбираем из датафрейма только 2 нужные колонки: месяц и температуру\n",
        "month_temp = month_temp.select(col(\"month\"), col(\"temperature\"))\n",
        "\n",
        "# группируем по месяцам, вычисляем среднее\n",
        "agg_month_temp = month_temp.groupBy(\"month\").agg(mean(\"temperature\"))\n",
        "\n",
        "print(\"Результат 3.3\")\n",
        "agg_month_temp.orderBy(col(\"month\")).show()\n",
        "\n",
        "spark.stop()"
      ],
      "metadata": {
        "colab": {
          "base_uri": "https://localhost:8080/"
        },
        "id": "phUhKBkEBN4q",
        "outputId": "e4787eb5-347a-44dc-c9ad-9a3873f96c6f"
      },
      "execution_count": 58,
      "outputs": [
        {
          "output_type": "stream",
          "name": "stdout",
          "text": [
            "root\n",
            " |-- station_id: string (nullable = true)\n",
            " |-- date: string (nullable = true)\n",
            " |-- temperature: string (nullable = true)\n",
            " |-- precipitation: string (nullable = true)\n",
            " |-- wind_speed: string (nullable = true)\n",
            "\n",
            "root\n",
            " |-- station_id: string (nullable = true)\n",
            " |-- date: date (nullable = true)\n",
            " |-- temperature: float (nullable = true)\n",
            " |-- precipitation: float (nullable = true)\n",
            " |-- wind_speed: float (nullable = true)\n",
            "\n",
            "+----------+----------+-----------+-------------+----------+\n",
            "|station_id|      date|temperature|precipitation|wind_speed|\n",
            "+----------+----------+-----------+-------------+----------+\n",
            "| station_7|2022-06-28|  -6.751842|    23.670044|     5.459|\n",
            "| station_4|2020-04-07|  -9.574844|    2.9858243| 6.8285055|\n",
            "| station_8|2018-12-22|   19.34342|    33.582115|  8.975576|\n",
            "| station_5|2021-09-09|  30.880953|    29.110437| 18.264654|\n",
            "| station_7|2023-02-07|  23.459047|    49.510445| 3.7878683|\n",
            "|station_10|2018-05-07|  27.525618|    11.957939|0.10053105|\n",
            "| station_3|2019-08-27|  4.2879057|    26.536867| 1.2019283|\n",
            "| station_7|2023-04-13|  19.244547|    32.547867| 18.095327|\n",
            "| station_8|2020-10-10|  1.2541745|    32.229557| 12.950329|\n",
            "| station_5|2018-02-20|  11.530277|    28.064676| 5.4608126|\n",
            "| station_4|2021-12-01|    8.89809|      38.8464|   3.54385|\n",
            "| station_8|2022-11-28|  -9.386771|    10.249061|  5.885335|\n",
            "| station_8|2022-06-25|  3.2247257|     36.28136| 2.2959385|\n",
            "| station_3|2022-07-04|  37.829338|    30.986729| 18.830658|\n",
            "| station_6|2021-04-20| -5.0851846|    44.803757| 15.684123|\n",
            "| station_5|2023-01-29| -11.971776|    42.359722|  9.247824|\n",
            "| station_2|2019-07-21|   5.114837|    15.757352| 17.299252|\n",
            "| station_8|2020-07-24|  27.420263|    13.811866|  4.989164|\n",
            "| station_6|2023-04-19|  14.928894|    49.082664| 14.342411|\n",
            "| station_2|2021-08-25|   20.85849|    26.363258|  17.12265|\n",
            "+----------+----------+-----------+-------------+----------+\n",
            "only showing top 20 rows\n",
            "\n",
            "+----------+----+-----------+-------------+----------+\n",
            "|station_id|date|temperature|precipitation|wind_speed|\n",
            "+----------+----+-----------+-------------+----------+\n",
            "|         0|   0|          0|            0|         0|\n",
            "+----------+----+-----------+-------------+----------+\n",
            "\n",
            "Результат 3.1\n",
            "+----------+-----------+\n",
            "|      date|temperature|\n",
            "+----------+-----------+\n",
            "|2021-08-20|   39.98283|\n",
            "|2023-12-02|  39.967976|\n",
            "|2022-03-28|  39.824688|\n",
            "|2019-02-11|  39.767376|\n",
            "|2020-06-10|   39.69148|\n",
            "+----------+-----------+\n",
            "\n",
            "Результат 3.2\n",
            "+----------+------------------+\n",
            "|station_id|sum(precipitation)|\n",
            "+----------+------------------+\n",
            "| station_5| 642.9302670955658|\n",
            "+----------+------------------+\n",
            "\n",
            "Результат 3.3\n",
            "+-----+------------------+\n",
            "|month|  avg(temperature)|\n",
            "+-----+------------------+\n",
            "|    1|11.356518470007797|\n",
            "|    2|  9.06722993850708|\n",
            "|    3| 7.244080115937525|\n",
            "|    4|12.024529053670603|\n",
            "|    5| 9.902883278588726|\n",
            "|    6|13.421092370936744|\n",
            "|    7| 6.185718382110021|\n",
            "|    8|10.967800280712183|\n",
            "|    9| 9.596744181906304|\n",
            "|   10| 9.098843419781097|\n",
            "|   11| 7.265890174138714|\n",
            "|   12|11.218592057529005|\n",
            "+-----+------------------+\n",
            "\n"
          ]
        }
      ]
    },
    {
      "cell_type": "code",
      "source": [],
      "metadata": {
        "id": "wM8LcXkBDaha"
      },
      "execution_count": 9,
      "outputs": []
    },
    {
      "cell_type": "code",
      "source": [],
      "metadata": {
        "id": "VzwezkmwFv1y"
      },
      "execution_count": null,
      "outputs": []
    }
  ]
}